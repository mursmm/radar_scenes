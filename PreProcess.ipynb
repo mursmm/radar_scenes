{
 "cells": [
  {
   "cell_type": "code",
   "execution_count": 2,
   "id": "21bfe583",
   "metadata": {},
   "outputs": [],
   "source": [
    "import numpy as np\n",
    "import h5py\n",
    "import json\n",
    "import pandas as pd\n"
   ]
  },
  {
   "cell_type": "code",
   "execution_count": 3,
   "id": "72be8632",
   "metadata": {},
   "outputs": [],
   "source": [
    "# Load sequences file\n",
    "#sequences_file_path = 'C:\\Users\\myrsi\\Documents\\radar_scenes_dataset\\RadarScenes\\RadarScenes\\data/sequences.json'\n",
    "sequences_file_path = 'C:\\\\Users\\\\myrsi\\\\Documents\\\\radar_scenes_dataset\\\\RadarScenes\\\\RadarScenes\\\\data\\\\sequences.json'\n",
    "\n",
    "with open(sequences_file_path, 'r') as f:\n",
    "    data = json.load(f)\n",
    "\n",
    "# Divide sequences into train and val sets\n",
    "train_sequences = [name for name, seq in data['sequences'].items() if seq['category'] == 'train']\n",
    "val_sequences = [name for name, seq in data['sequences'].items() if seq['category'] == 'validation']\n",
    "\n",
    "\n",
    "#print(f'train seequences: {train_sequences}\\n')\n",
    "#print(f'val seequences: {val_sequences}')"
   ]
  },
  {
   "cell_type": "code",
   "execution_count": 4,
   "id": "fffa43fd",
   "metadata": {},
   "outputs": [],
   "source": [
    "# Collect radar data from train sequences\n",
    "train_radar_data_list = []\n",
    "for seq_name in train_sequences:\n",
    "    # Open radar data file\n",
    "    #radar_data_file_path = f'/home/mmita/Documents/radar_scenes_dataset/data/{seq_name}/radar_data.h5'\n",
    "    radar_data_file_path = f'C:\\\\Users\\\\myrsi\\\\Documents\\\\radar_scenes_dataset\\\\RadarScenes\\\\RadarScenes\\\\data\\\\{seq_name}\\\\radar_data.h5'\n",
    "    with h5py.File(radar_data_file_path, 'r') as f:\n",
    "        # Get radar data\n",
    "        radar_data = f['radar_data'][:]\n",
    "        # Append to train radar data list\n",
    "        train_radar_data_list.append(radar_data)\n",
    "\n",
    "#print(train_radar_data_list)\n",
    "#print(train_radar_data_list[:][:][:][4])\n",
    "#print(len(train_radar_data_list[0]))\n"
   ]
  },
  {
   "cell_type": "code",
   "execution_count": 5,
   "id": "05994857",
   "metadata": {},
   "outputs": [],
   "source": [
    "# Collect radar data from val sequences\n",
    "val_radar_data_list = []\n",
    "for seq_name in val_sequences:\n",
    "    # Open radar data file\n",
    "    #radar_data_file_path = f'/home/mmita/Documents/radar_scenes_dataset/data/{seq_name}/radar_data.h5'\n",
    "    radar_data_file_path = f'C:\\\\Users\\\\myrsi\\\\Documents\\\\radar_scenes_dataset\\\\RadarScenes\\\\RadarScenes\\\\data\\\\{seq_name}\\\\radar_data.h5'\n",
    "    with h5py.File(radar_data_file_path, 'r') as f:\n",
    "        # Get radar data\n",
    "        radar_data = f['radar_data'][:]\n",
    "        # Append to val radar data list\n",
    "        val_radar_data_list.append(radar_data)\n",
    "\n",
    "#print(val_radar_data_list)"
   ]
  },
  {
   "cell_type": "code",
   "execution_count": 6,
   "id": "243c7b25",
   "metadata": {},
   "outputs": [
    {
     "ename": "KeyboardInterrupt",
     "evalue": "",
     "output_type": "error",
     "traceback": [
      "\u001b[1;31m---------------------------------------------------------------------------\u001b[0m",
      "\u001b[1;31mKeyboardInterrupt\u001b[0m                         Traceback (most recent call last)",
      "Cell \u001b[1;32mIn[6], line 17\u001b[0m\n\u001b[0;32m     15\u001b[0m range_sc\u001b[38;5;241m.\u001b[39mappend(tup[\u001b[38;5;241m2\u001b[39m])\n\u001b[0;32m     16\u001b[0m doppler_vel\u001b[38;5;241m.\u001b[39mappend(tup[\u001b[38;5;241m5\u001b[39m])\n\u001b[1;32m---> 17\u001b[0m label_id\u001b[38;5;241m.\u001b[39mappend(tup[\u001b[38;5;241m13\u001b[39m])\n",
      "\u001b[1;31mKeyboardInterrupt\u001b[0m: "
     ]
    }
   ],
   "source": [
    "# Create an empty list to store all the train values\n",
    "angle = []\n",
    "rcs = []\n",
    "range_sc = []\n",
    "doppler_vel = []\n",
    "label_id = []\n",
    "\n",
    "# Loop through each object in train_radar_data_list\n",
    "for obj in train_radar_data_list:\n",
    "    # Loop through each tuple in the object\n",
    "    for tup in obj:\n",
    "        # Extract the values from the tuple and append them to the corresponding lists\n",
    "        angle.append(tup[3])\n",
    "        rcs.append(tup[4])\n",
    "        range_sc.append(tup[2])\n",
    "        doppler_vel.append(tup[5])\n",
    "        label_id.append(tup[13])\n"
   ]
  },
  {
   "cell_type": "code",
   "execution_count": null,
   "id": "7537e5c4",
   "metadata": {},
   "outputs": [],
   "source": [
    "# Create an empty list to store all the validation values\n",
    "angle_v = []\n",
    "rcs_v = []\n",
    "range_sc_v = []\n",
    "doppler_vel_v = []\n",
    "label_id_v = []\n",
    "\n",
    "# Loop through each object in val_radar_data_list\n",
    "for obj in val_radar_data_list:\n",
    "    # Loop through each tuple in the object\n",
    "    for tup in obj:\n",
    "        # Extract the values from the tuple and append them to the corresponding lists\n",
    "        angle_v.append(tup[3])\n",
    "        rcs_v.append(tup[4])\n",
    "        range_sc_v.append(tup[2])\n",
    "        doppler_vel_v.append(tup[5])\n",
    "        label_id_v.append(tup[13])"
   ]
  },
  {
   "cell_type": "code",
   "execution_count": null,
   "id": "894fcfb6",
   "metadata": {},
   "outputs": [],
   "source": [
    "# Create a pandas DataFrame for training data\n",
    "train_df = pd.DataFrame({'Angle': angle, 'RCS': rcs, 'Range_Sc': range_sc, 'Doppler_Vel': doppler_vel, 'Label_ID': label_id})\n",
    "\n",
    "# Create a pandas DataFrame for validation data\n",
    "val_df = pd.DataFrame({'Angle': angle_v, 'RCS': rcs_v, 'Range_Sc': range_sc_v, 'Doppler_Vel': doppler_vel_v, 'Label_ID': label_id_v})\n"
   ]
  },
  {
   "cell_type": "code",
   "execution_count": null,
   "id": "983a3090",
   "metadata": {},
   "outputs": [],
   "source": [
    "# Save training data to a CSV file\n",
    "train_df.to_csv('training_data.csv', index=False)\n",
    "\n",
    "# Save validation data to a CSV file\n",
    "val_df.to_csv('validation_data.csv', index=False)\n",
    "\n"
   ]
  },
  {
   "cell_type": "code",
   "execution_count": 22,
   "id": "fd7e3032",
   "metadata": {},
   "outputs": [],
   "source": [
    "import pandas as pd\n",
    "\n",
    "# Read the CSV file\n",
    "df_training_data = pd.read_csv('training_data.csv')\n",
    "df_validation_data = pd.read_csv('validation_data.csv')\n",
    "\n"
   ]
  },
  {
   "cell_type": "code",
   "execution_count": null,
   "id": "14cc9f7b",
   "metadata": {
    "scrolled": true
   },
   "outputs": [],
   "source": [
    "# Access the data in the DataFrame\n",
    "# For example, print the first 5 rows of the DataFrame\n",
    "print(df_training_data.head())"
   ]
  },
  {
   "cell_type": "code",
   "execution_count": null,
   "id": "ff8bfe02",
   "metadata": {},
   "outputs": [],
   "source": [
    "\n",
    "# Check for NaN values\n",
    "has_nan = df_training_data.isna().any().any()\n",
    "\n",
    "# Print the result\n",
    "if has_nan:\n",
    "    print(\"There are NaN values in the DataFrame.\")\n",
    "else:\n",
    "    print(\"There are no NaN values in the DataFrame.\")\n"
   ]
  },
  {
   "cell_type": "code",
   "execution_count": 25,
   "id": "1c62cf39",
   "metadata": {},
   "outputs": [],
   "source": [
    "X = df_training_data[['Angle','RCS','Range_Sc','Doppler_Vel']]\n",
    "y = df_training_data['Label_ID']\n",
    "X_val = df_validation_data[['Angle','RCS','Range_Sc','Doppler_Vel']]\n",
    "y_val = df_validation_data['Label_ID']"
   ]
  },
  {
   "cell_type": "code",
   "execution_count": 28,
   "id": "195d58c6",
   "metadata": {},
   "outputs": [
    {
     "data": {
      "text/plain": [
       "20028871.2"
      ]
     },
     "execution_count": 28,
     "metadata": {},
     "output_type": "execute_result"
    }
   ],
   "source": []
  },
  {
   "cell_type": "code",
   "execution_count": 9,
   "id": "4aeccee9",
   "metadata": {},
   "outputs": [],
   "source": [
    "from sklearn.model_selection import train_test_split\n",
    "val_proportion = df_validation_data.shape[0] / df_training_data.shape[0]\n",
    "X_train, X_test, y_train, y_test = train_test_split(X,y,test_size=val_proportion,random_state=42)"
   ]
  },
  {
   "cell_type": "code",
   "execution_count": 10,
   "id": "0026b172",
   "metadata": {},
   "outputs": [
    {
     "name": "stdout",
     "output_type": "stream",
     "text": [
      "Train set shape: (81300276, 4) (81300276,)\n",
      "Test set shape: (18844080, 4) (18844080,)\n",
      "Validation set shape: (18844080, 4) (18844080,)\n"
     ]
    }
   ],
   "source": [
    "print(\"Train set shape:\", X_train.shape, y_train.shape)\n",
    "print(\"Test set shape:\", X_test.shape, y_test.shape)\n",
    "print(\"Validation set shape:\", X_val.shape, y_val.shape)"
   ]
  },
  {
   "cell_type": "code",
   "execution_count": 24,
   "id": "084bd6f7",
   "metadata": {},
   "outputs": [
    {
     "data": {
      "text/plain": [
       "torch.Size([5, 4])"
      ]
     },
     "execution_count": 24,
     "metadata": {},
     "output_type": "execute_result"
    }
   ],
   "source": [
    "# Turn data into tensors\n",
    "# Otherwise this causes issues with computations later on\n",
    "import torch\n",
    "X = torch.tensor(df_training_data[['Angle', 'RCS', 'Range_Sc', 'Doppler_Vel']].values, dtype=torch.float)\n",
    "y = torch.tensor(df_training_data['Label_ID'].values, dtype=torch.float)\n",
    "X_val = torch.tensor(df_validation_data[['Angle','RCS','Range_Sc','Doppler_Vel']].values, dtype=torch.float)\n",
    "y_val = torch.tensor(df_validation_data['Label_ID'].values, dtype=torch.float)\n",
    "\n",
    "# View the first five samples\n",
    "#X[:5], y[:5], X_val[:5], y_val[:5]\n",
    "X_train.shape"
   ]
  },
  {
   "cell_type": "code",
   "execution_count": 4,
   "id": "87c7f142",
   "metadata": {},
   "outputs": [],
   "source": [
    "from sklearn.model_selection import train_test_split\n",
    "val_proportion = df_validation_data.shape[0] / df_training_data.shape[0]\n",
    "X_train, X_test, y_train, y_test = train_test_split(X,y,test_size=val_proportion,random_state=42)"
   ]
  },
  {
   "cell_type": "code",
   "execution_count": 23,
   "id": "151e7632",
   "metadata": {},
   "outputs": [
    {
     "data": {
      "text/plain": [
       "(81300276, 18844080, 18844080, 81300276, 18844080, 18844080)"
      ]
     },
     "execution_count": 23,
     "metadata": {},
     "output_type": "execute_result"
    }
   ],
   "source": [
    "len(X_train), len(X_test), len(X_val), len(y_train), len(y_test), len(y_val)"
   ]
  },
  {
   "cell_type": "code",
   "execution_count": 5,
   "id": "ea90eed2",
   "metadata": {},
   "outputs": [
    {
     "data": {
      "text/plain": [
       "'cpu'"
      ]
     },
     "execution_count": 5,
     "metadata": {},
     "output_type": "execute_result"
    }
   ],
   "source": [
    "# Standard PyTorch imports\n",
    "import torch\n",
    "from torch import nn\n",
    "\n",
    "# Make device agnostic code\n",
    "device = \"cuda\" if torch.cuda.is_available() else \"cpu\"\n",
    "device"
   ]
  },
  {
   "cell_type": "code",
   "execution_count": 6,
   "id": "84a10e62",
   "metadata": {},
   "outputs": [
    {
     "data": {
      "text/plain": [
       "Net(\n",
       "  (conv1): Conv2d(4, 32, kernel_size=(3, 3), stride=(1, 1))\n",
       "  (bn1): BatchNorm2d(32, eps=1e-05, momentum=0.1, affine=True, track_running_stats=True)\n",
       "  (conv2): Conv2d(32, 64, kernel_size=(3, 3), stride=(1, 1))\n",
       "  (bn2): BatchNorm2d(64, eps=1e-05, momentum=0.1, affine=True, track_running_stats=True)\n",
       "  (pool1): MaxPool2d(kernel_size=2, stride=2, padding=0, dilation=1, ceil_mode=False)\n",
       "  (conv3): Conv2d(64, 128, kernel_size=(3, 3), stride=(1, 1))\n",
       "  (bn3): BatchNorm2d(128, eps=1e-05, momentum=0.1, affine=True, track_running_stats=True)\n",
       "  (conv4): Conv2d(128, 256, kernel_size=(3, 3), stride=(1, 1))\n",
       "  (bn4): BatchNorm2d(256, eps=1e-05, momentum=0.1, affine=True, track_running_stats=True)\n",
       "  (pool2): MaxPool2d(kernel_size=2, stride=2, padding=0, dilation=1, ceil_mode=False)\n",
       "  (deconv1): ConvTranspose2d(256, 128, kernel_size=(9, 9), stride=(1, 1))\n",
       "  (bn5): BatchNorm2d(128, eps=1e-05, momentum=0.1, affine=True, track_running_stats=True)\n",
       "  (deconv2): ConvTranspose2d(128, 64, kernel_size=(6, 6), stride=(1, 1))\n",
       "  (bn6): BatchNorm2d(64, eps=1e-05, momentum=0.1, affine=True, track_running_stats=True)\n",
       "  (deconv3): ConvTranspose2d(64, 32, kernel_size=(5, 5), stride=(1, 1))\n",
       "  (bn7): BatchNorm2d(32, eps=1e-05, momentum=0.1, affine=True, track_running_stats=True)\n",
       "  (deconv4): ConvTranspose2d(32, 6, kernel_size=(3, 3), stride=(1, 1))\n",
       "  (dropout): Dropout(p=0.5, inplace=False)\n",
       "  (fc1): Linear(in_features=16384, out_features=512, bias=True)\n",
       "  (fc2): Linear(in_features=512, out_features=10, bias=True)\n",
       "  (softmax): Softmax(dim=1)\n",
       ")"
      ]
     },
     "execution_count": 6,
     "metadata": {},
     "output_type": "execute_result"
    }
   ],
   "source": [
    "#Define the convolutional Neural Network\n",
    "import torch.nn as nn\n",
    "import torch.nn.functional as F\n",
    "\n",
    "# Define the model architecture\n",
    "class Net(nn.Module):\n",
    "    def __init__(self):\n",
    "        super().__init__()\n",
    "        self.conv1 = nn.Conv2d(4, 32, kernel_size=3)\n",
    "        self.bn1 = nn.BatchNorm2d(32)\n",
    "        self.conv2 = nn.Conv2d(32, 64, kernel_size=3)\n",
    "        self.bn2 = nn.BatchNorm2d(64)\n",
    "        self.pool1 = nn.MaxPool2d(2,2)\n",
    "        self.conv3 = nn.Conv2d(64, 128, kernel_size=3)\n",
    "        self.bn3 = nn.BatchNorm2d(128)\n",
    "        self.conv4 = nn.Conv2d(128, 256, kernel_size=3)\n",
    "        self.bn4 = nn.BatchNorm2d(256)\n",
    "        self.pool2 = nn.MaxPool2d(2,2)\n",
    "        \n",
    "        self.upsample1 = nn.functional.interpolate  # Corrected upsampling function\n",
    "        self.deconv1 = nn.ConvTranspose2d(256, 128, kernel_size=9)  # Corrected input channels\n",
    "        self.bn5 = nn.BatchNorm2d(128)\n",
    "        self.deconv2 = nn.ConvTranspose2d(128, 64, kernel_size=6)  # Corrected input channels\n",
    "        self.bn6 = nn.BatchNorm2d(64)\n",
    "        self.upsample2 = nn.functional.interpolate  # Corrected upsampling function\n",
    "        self.deconv3 = nn.ConvTranspose2d(64, 32, kernel_size=5)  # Corrected input channels\n",
    "        self.bn7 = nn.BatchNorm2d(32)  # Corrected input channels\n",
    "        self.deconv4 = nn.ConvTranspose2d(32, 6, kernel_size=3)  # Corrected input channels\n",
    "\n",
    "        self.dropout = nn.Dropout(p=0.5)\n",
    "        self.fc1 = nn.Linear(256 * 8 * 8, 512)  # Corrected input features\n",
    "        self.fc2 = nn.Linear(512, 10)\n",
    "        self.softmax = nn.Softmax(dim=1)\n",
    "\n",
    "    def forward(self, x):\n",
    "        x = F.relu(self.bn1(self.conv1(x))) \n",
    "        x = F.relu(self.bn2(self.conv2(x)))\n",
    "        x = self.pool1(x)    \n",
    "        x = F.relu(self.bn3(self.conv3(x))) \n",
    "        x = F.relu(self.bn4(self.conv4(x)))\n",
    "        x = self.pool2(x)     \n",
    "\n",
    "        x = self.upsample1(x, scale_factor=2, mode='bilinear', align_corners=False)\n",
    "        x = F.relu(self.bn5(self.deconv1(x)))\n",
    "        x = F.relu(self.bn6(self.deconv2(x)))\n",
    "        x = self.upsample2(x, scale_factor=2, mode='bilinear', align_corners=False)\n",
    "        x = F.relu(self.bn7(self.deconv3(x)))\n",
    "        x = self.deconv4(x)\n",
    "\n",
    "        x = x.view(-1, 256 * 8 * 8)\n",
    "        x = self.dropout(F.relu(self.fc1(x)))\n",
    "        x = self.softmax(self.fc2(x))\n",
    "\n",
    "        return x\n",
    "\n",
    "model_1 = Net().to(device)\n",
    "model_1"
   ]
  },
  {
   "cell_type": "code",
   "execution_count": 7,
   "id": "9a1640d9",
   "metadata": {},
   "outputs": [],
   "source": [
    "# Define a loss function and optimizer\n",
    "import torch.optim as optim\n",
    "\n",
    "loss_fn = nn.CrossEntropyLoss()\n",
    "optimizer = optim.Adam(model_1.parameters(), lr=0.001, betas=(0.9,0.999))"
   ]
  },
  {
   "cell_type": "code",
   "execution_count": 19,
   "id": "d972b262",
   "metadata": {},
   "outputs": [
    {
     "data": {
      "text/plain": [
       "(torch.Size([5, 4]),\n",
       " tensor([[ 2.3665e-01,  1.3874e+01,  4.0424e+01, -3.1899e-04],\n",
       "         [-2.2168e-01, -2.2579e+00,  1.4596e+01, -2.0613e-03],\n",
       "         [-6.6272e-01,  5.0351e+00,  3.6930e+01, -6.7980e+00],\n",
       "         [ 6.4274e-02, -4.2500e+00,  6.3856e+01,  6.5092e+00],\n",
       "         [ 2.0290e-01,  2.2982e+01,  6.9704e+01, -5.9451e-04]]),\n",
       " torch.Size([5]))"
      ]
     },
     "execution_count": 19,
     "metadata": {},
     "output_type": "execute_result"
    }
   ],
   "source": [
    "X_train.shape, X_train[:5] , y_train.shape"
   ]
  },
  {
   "cell_type": "code",
   "execution_count": 14,
   "id": "33412f21",
   "metadata": {},
   "outputs": [
    {
     "ename": "RuntimeError",
     "evalue": "Expected 3D (unbatched) or 4D (batched) input to conv2d, but got input of size: [5, 4]",
     "output_type": "error",
     "traceback": [
      "\u001b[1;31m---------------------------------------------------------------------------\u001b[0m",
      "\u001b[1;31mRuntimeError\u001b[0m                              Traceback (most recent call last)",
      "Cell \u001b[1;32mIn[14], line 32\u001b[0m\n\u001b[0;32m     29\u001b[0m optimizer\u001b[38;5;241m.\u001b[39mzero_grad()\n\u001b[0;32m     31\u001b[0m \u001b[38;5;66;03m# Forward pass\u001b[39;00m\n\u001b[1;32m---> 32\u001b[0m outputs \u001b[38;5;241m=\u001b[39m \u001b[43mmodel_1\u001b[49m\u001b[43m(\u001b[49m\u001b[43mX_train\u001b[49m\u001b[43m)\u001b[49m\n\u001b[0;32m     34\u001b[0m \u001b[38;5;66;03m# Compute the loss\u001b[39;00m\n\u001b[0;32m     35\u001b[0m loss \u001b[38;5;241m=\u001b[39m loss_fn(outputs, y_train)\n",
      "File \u001b[1;32m~\\anaconda3\\lib\\site-packages\\torch\\nn\\modules\\module.py:1130\u001b[0m, in \u001b[0;36mModule._call_impl\u001b[1;34m(self, *input, **kwargs)\u001b[0m\n\u001b[0;32m   1126\u001b[0m \u001b[38;5;66;03m# If we don't have any hooks, we want to skip the rest of the logic in\u001b[39;00m\n\u001b[0;32m   1127\u001b[0m \u001b[38;5;66;03m# this function, and just call forward.\u001b[39;00m\n\u001b[0;32m   1128\u001b[0m \u001b[38;5;28;01mif\u001b[39;00m \u001b[38;5;129;01mnot\u001b[39;00m (\u001b[38;5;28mself\u001b[39m\u001b[38;5;241m.\u001b[39m_backward_hooks \u001b[38;5;129;01mor\u001b[39;00m \u001b[38;5;28mself\u001b[39m\u001b[38;5;241m.\u001b[39m_forward_hooks \u001b[38;5;129;01mor\u001b[39;00m \u001b[38;5;28mself\u001b[39m\u001b[38;5;241m.\u001b[39m_forward_pre_hooks \u001b[38;5;129;01mor\u001b[39;00m _global_backward_hooks\n\u001b[0;32m   1129\u001b[0m         \u001b[38;5;129;01mor\u001b[39;00m _global_forward_hooks \u001b[38;5;129;01mor\u001b[39;00m _global_forward_pre_hooks):\n\u001b[1;32m-> 1130\u001b[0m     \u001b[38;5;28;01mreturn\u001b[39;00m forward_call(\u001b[38;5;241m*\u001b[39m\u001b[38;5;28minput\u001b[39m, \u001b[38;5;241m*\u001b[39m\u001b[38;5;241m*\u001b[39mkwargs)\n\u001b[0;32m   1131\u001b[0m \u001b[38;5;66;03m# Do not call functions when jit is used\u001b[39;00m\n\u001b[0;32m   1132\u001b[0m full_backward_hooks, non_full_backward_hooks \u001b[38;5;241m=\u001b[39m [], []\n",
      "Cell \u001b[1;32mIn[6], line 36\u001b[0m, in \u001b[0;36mNet.forward\u001b[1;34m(self, x)\u001b[0m\n\u001b[0;32m     35\u001b[0m \u001b[38;5;28;01mdef\u001b[39;00m \u001b[38;5;21mforward\u001b[39m(\u001b[38;5;28mself\u001b[39m, x):\n\u001b[1;32m---> 36\u001b[0m     x \u001b[38;5;241m=\u001b[39m F\u001b[38;5;241m.\u001b[39mrelu(\u001b[38;5;28mself\u001b[39m\u001b[38;5;241m.\u001b[39mbn1(\u001b[38;5;28;43mself\u001b[39;49m\u001b[38;5;241;43m.\u001b[39;49m\u001b[43mconv1\u001b[49m\u001b[43m(\u001b[49m\u001b[43mx\u001b[49m\u001b[43m)\u001b[49m)) \n\u001b[0;32m     37\u001b[0m     x \u001b[38;5;241m=\u001b[39m F\u001b[38;5;241m.\u001b[39mrelu(\u001b[38;5;28mself\u001b[39m\u001b[38;5;241m.\u001b[39mbn2(\u001b[38;5;28mself\u001b[39m\u001b[38;5;241m.\u001b[39mconv2(x)))\n\u001b[0;32m     38\u001b[0m     x \u001b[38;5;241m=\u001b[39m \u001b[38;5;28mself\u001b[39m\u001b[38;5;241m.\u001b[39mpool1(x)    \n",
      "File \u001b[1;32m~\\anaconda3\\lib\\site-packages\\torch\\nn\\modules\\module.py:1130\u001b[0m, in \u001b[0;36mModule._call_impl\u001b[1;34m(self, *input, **kwargs)\u001b[0m\n\u001b[0;32m   1126\u001b[0m \u001b[38;5;66;03m# If we don't have any hooks, we want to skip the rest of the logic in\u001b[39;00m\n\u001b[0;32m   1127\u001b[0m \u001b[38;5;66;03m# this function, and just call forward.\u001b[39;00m\n\u001b[0;32m   1128\u001b[0m \u001b[38;5;28;01mif\u001b[39;00m \u001b[38;5;129;01mnot\u001b[39;00m (\u001b[38;5;28mself\u001b[39m\u001b[38;5;241m.\u001b[39m_backward_hooks \u001b[38;5;129;01mor\u001b[39;00m \u001b[38;5;28mself\u001b[39m\u001b[38;5;241m.\u001b[39m_forward_hooks \u001b[38;5;129;01mor\u001b[39;00m \u001b[38;5;28mself\u001b[39m\u001b[38;5;241m.\u001b[39m_forward_pre_hooks \u001b[38;5;129;01mor\u001b[39;00m _global_backward_hooks\n\u001b[0;32m   1129\u001b[0m         \u001b[38;5;129;01mor\u001b[39;00m _global_forward_hooks \u001b[38;5;129;01mor\u001b[39;00m _global_forward_pre_hooks):\n\u001b[1;32m-> 1130\u001b[0m     \u001b[38;5;28;01mreturn\u001b[39;00m forward_call(\u001b[38;5;241m*\u001b[39m\u001b[38;5;28minput\u001b[39m, \u001b[38;5;241m*\u001b[39m\u001b[38;5;241m*\u001b[39mkwargs)\n\u001b[0;32m   1131\u001b[0m \u001b[38;5;66;03m# Do not call functions when jit is used\u001b[39;00m\n\u001b[0;32m   1132\u001b[0m full_backward_hooks, non_full_backward_hooks \u001b[38;5;241m=\u001b[39m [], []\n",
      "File \u001b[1;32m~\\anaconda3\\lib\\site-packages\\torch\\nn\\modules\\conv.py:457\u001b[0m, in \u001b[0;36mConv2d.forward\u001b[1;34m(self, input)\u001b[0m\n\u001b[0;32m    456\u001b[0m \u001b[38;5;28;01mdef\u001b[39;00m \u001b[38;5;21mforward\u001b[39m(\u001b[38;5;28mself\u001b[39m, \u001b[38;5;28minput\u001b[39m: Tensor) \u001b[38;5;241m-\u001b[39m\u001b[38;5;241m>\u001b[39m Tensor:\n\u001b[1;32m--> 457\u001b[0m     \u001b[38;5;28;01mreturn\u001b[39;00m \u001b[38;5;28;43mself\u001b[39;49m\u001b[38;5;241;43m.\u001b[39;49m\u001b[43m_conv_forward\u001b[49m\u001b[43m(\u001b[49m\u001b[38;5;28;43minput\u001b[39;49m\u001b[43m,\u001b[49m\u001b[43m \u001b[49m\u001b[38;5;28;43mself\u001b[39;49m\u001b[38;5;241;43m.\u001b[39;49m\u001b[43mweight\u001b[49m\u001b[43m,\u001b[49m\u001b[43m \u001b[49m\u001b[38;5;28;43mself\u001b[39;49m\u001b[38;5;241;43m.\u001b[39;49m\u001b[43mbias\u001b[49m\u001b[43m)\u001b[49m\n",
      "File \u001b[1;32m~\\anaconda3\\lib\\site-packages\\torch\\nn\\modules\\conv.py:453\u001b[0m, in \u001b[0;36mConv2d._conv_forward\u001b[1;34m(self, input, weight, bias)\u001b[0m\n\u001b[0;32m    449\u001b[0m \u001b[38;5;28;01mif\u001b[39;00m \u001b[38;5;28mself\u001b[39m\u001b[38;5;241m.\u001b[39mpadding_mode \u001b[38;5;241m!=\u001b[39m \u001b[38;5;124m'\u001b[39m\u001b[38;5;124mzeros\u001b[39m\u001b[38;5;124m'\u001b[39m:\n\u001b[0;32m    450\u001b[0m     \u001b[38;5;28;01mreturn\u001b[39;00m F\u001b[38;5;241m.\u001b[39mconv2d(F\u001b[38;5;241m.\u001b[39mpad(\u001b[38;5;28minput\u001b[39m, \u001b[38;5;28mself\u001b[39m\u001b[38;5;241m.\u001b[39m_reversed_padding_repeated_twice, mode\u001b[38;5;241m=\u001b[39m\u001b[38;5;28mself\u001b[39m\u001b[38;5;241m.\u001b[39mpadding_mode),\n\u001b[0;32m    451\u001b[0m                     weight, bias, \u001b[38;5;28mself\u001b[39m\u001b[38;5;241m.\u001b[39mstride,\n\u001b[0;32m    452\u001b[0m                     _pair(\u001b[38;5;241m0\u001b[39m), \u001b[38;5;28mself\u001b[39m\u001b[38;5;241m.\u001b[39mdilation, \u001b[38;5;28mself\u001b[39m\u001b[38;5;241m.\u001b[39mgroups)\n\u001b[1;32m--> 453\u001b[0m \u001b[38;5;28;01mreturn\u001b[39;00m \u001b[43mF\u001b[49m\u001b[38;5;241;43m.\u001b[39;49m\u001b[43mconv2d\u001b[49m\u001b[43m(\u001b[49m\u001b[38;5;28;43minput\u001b[39;49m\u001b[43m,\u001b[49m\u001b[43m \u001b[49m\u001b[43mweight\u001b[49m\u001b[43m,\u001b[49m\u001b[43m \u001b[49m\u001b[43mbias\u001b[49m\u001b[43m,\u001b[49m\u001b[43m \u001b[49m\u001b[38;5;28;43mself\u001b[39;49m\u001b[38;5;241;43m.\u001b[39;49m\u001b[43mstride\u001b[49m\u001b[43m,\u001b[49m\n\u001b[0;32m    454\u001b[0m \u001b[43m                \u001b[49m\u001b[38;5;28;43mself\u001b[39;49m\u001b[38;5;241;43m.\u001b[39;49m\u001b[43mpadding\u001b[49m\u001b[43m,\u001b[49m\u001b[43m \u001b[49m\u001b[38;5;28;43mself\u001b[39;49m\u001b[38;5;241;43m.\u001b[39;49m\u001b[43mdilation\u001b[49m\u001b[43m,\u001b[49m\u001b[43m \u001b[49m\u001b[38;5;28;43mself\u001b[39;49m\u001b[38;5;241;43m.\u001b[39;49m\u001b[43mgroups\u001b[49m\u001b[43m)\u001b[49m\n",
      "\u001b[1;31mRuntimeError\u001b[0m: Expected 3D (unbatched) or 4D (batched) input to conv2d, but got input of size: [5, 4]"
     ]
    }
   ],
   "source": [
    "import torch\n",
    "from torch.utils.data import TensorDataset, DataLoader\n",
    "\n",
    "torch.manual_seed(42)\n",
    "\n",
    "# Create a TensorDataset from the training data\n",
    "dataset = TensorDataset(X_train, y_train)\n",
    "\n",
    "# Create a DataLoader with batch size 5\n",
    "batch_size = 5\n",
    "\n",
    "trainloader = DataLoader(dataset, batch_size=batch_size, shuffle=True)\n",
    "\n",
    "# Set the number of epochs\n",
    "num_epochs = 500\n",
    "iterations_per_epoch = 1000\n",
    "\n",
    "# Put data to target device\n",
    "X_train, y_train = X_train.to(device), y_train.to(device)\n",
    "\n",
    "# Define the training loop\n",
    "for epoch in range(num_epochs):\n",
    "    running_loss = 0.0\n",
    "    \n",
    "    # Iterate over the data loader for the specified number of iterations per epoch\n",
    "    for i, (X_train, y_train) in enumerate(trainloader, 1):        \n",
    "\n",
    "        # Zero the gradients\n",
    "        optimizer.zero_grad()\n",
    "\n",
    "        # Forward pass\n",
    "        outputs = model_1(X_train)\n",
    "\n",
    "        # Compute the loss\n",
    "        loss = loss_fn(outputs, y_train)\n",
    "\n",
    "        # Backward pass\n",
    "        loss.backward()\n",
    "\n",
    "        # Update the weights\n",
    "        optimizer.step()\n",
    "\n",
    "        # Accumulate the loss\n",
    "        running_loss += loss.item()\n",
    "\n",
    "        # Print statistics every 2000 mini-batches\n",
    "        if i % 2000 == 0:\n",
    "            print(f\"Epoch: {epoch+1}/{num_epochs} | Iteration: {i}/{iterations_per_epoch} | Loss: {running_loss / i:.5f}\")\n",
    "\n",
    "    # Print epoch-wise statistics\n",
    "    print(f\"Epoch: {epoch+1}/{num_epochs} | Loss: {running_loss / iterations_per_epoch:.5f}\")\n",
    "\n",
    "print('Finished Training')"
   ]
  },
  {
   "cell_type": "code",
   "execution_count": 38,
   "id": "bd88fc2a",
   "metadata": {},
   "outputs": [
    {
     "data": {
      "text/plain": [
       "(tensor([[ 1.0195e+00, -8.6274e+00,  8.6475e+00,  2.6316e-03],\n",
       "         [-2.5642e-01, -1.2110e+01,  2.4821e+01, -7.1202e+00],\n",
       "         [-7.4001e-01,  9.3935e+00,  6.0843e+01, -1.7778e-03],\n",
       "         ...,\n",
       "         [ 8.9021e-01, -3.3762e+00,  6.5599e+00,  4.6159e+00],\n",
       "         [-1.9560e-02, -1.6377e+01,  3.7548e+01, -4.3199e+00],\n",
       "         [-4.9341e-01, -6.6121e+00,  3.8605e+01, -4.3854e+00]]),\n",
       " tensor([11., 11., 11.,  ..., 11., 11., 11.]))"
      ]
     },
     "execution_count": 38,
     "metadata": {},
     "output_type": "execute_result"
    }
   ],
   "source": [
    "X_train, y_train\n"
   ]
  },
  {
   "cell_type": "code",
   "execution_count": null,
   "id": "3f23107b",
   "metadata": {},
   "outputs": [],
   "source": []
  }
 ],
 "metadata": {
  "kernelspec": {
   "display_name": "Python 3 (ipykernel)",
   "language": "python",
   "name": "python3"
  },
  "language_info": {
   "codemirror_mode": {
    "name": "ipython",
    "version": 3
   },
   "file_extension": ".py",
   "mimetype": "text/x-python",
   "name": "python",
   "nbconvert_exporter": "python",
   "pygments_lexer": "ipython3",
   "version": "3.10.9"
  }
 },
 "nbformat": 4,
 "nbformat_minor": 5
}
