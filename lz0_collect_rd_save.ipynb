{
 "cells": [
  {
   "cell_type": "code",
   "execution_count": null,
   "id": "340b9dd5",
   "metadata": {},
   "outputs": [],
   "source": [
    "import numpy as np\n",
    "import h5py\n",
    "import json\n",
    "import pandas as pd"
   ]
  },
  {
   "cell_type": "code",
   "execution_count": null,
   "id": "0e8b8e9a",
   "metadata": {},
   "outputs": [],
   "source": [
    "# Load sequences file\n",
    "sequences_file_path = 'C:\\\\Users\\\\myrsi\\\\Documents\\\\radar_scenes_dataset\\\\RadarScenes\\\\RadarScenes\\\\data\\\\sequences.json'\n",
    "\n",
    "with open(sequences_file_path, 'r') as f:\n",
    "    data = json.load(f)\n",
    "\n",
    "# Divide sequences into train and val sets\n",
    "train_sequences = [name for name, seq in data['sequences'].items() if seq['category'] == 'train']\n",
    "val_sequences = [name for name, seq in data['sequences'].items() if seq['category'] == 'validation']\n",
    "\n",
    "\n",
    "#print(f'train seequences: {train_sequences}\\n')\n",
    "#print(f'val seequences: {val_sequences}')"
   ]
  },
  {
   "cell_type": "code",
   "execution_count": null,
   "id": "d213d82e",
   "metadata": {},
   "outputs": [],
   "source": [
    "# Collect radar data from train sequences\n",
    "train_radar_data_list = []\n",
    "for seq_name in train_sequences:\n",
    "    # Open radar data file\n",
    "    radar_data_file_path = f'C:\\\\Users\\\\myrsi\\\\Documents\\\\radar_scenes_dataset\\\\RadarScenes\\\\RadarScenes\\\\data\\\\{seq_name}\\\\radar_data.h5'\n",
    "    with h5py.File(radar_data_file_path, 'r') as f:\n",
    "        # Get radar data\n",
    "        radar_data = f['radar_data'][:]\n",
    "        # Append to train radar data list\n",
    "        train_radar_data_list.append(radar_data)\n",
    "\n",
    "#print(train_radar_data_list)\n",
    "#print(train_radar_data_list[:][:][:][4])\n",
    "#print(len(train_radar_data_list[0]))"
   ]
  },
  {
   "cell_type": "code",
   "execution_count": null,
   "id": "14748b57",
   "metadata": {},
   "outputs": [],
   "source": [
    "# Collect radar data from val sequences\n",
    "val_radar_data_list = []\n",
    "for seq_name in val_sequences:\n",
    "    # Open radar data file\n",
    "    radar_data_file_path = f'C:\\\\Users\\\\myrsi\\\\Documents\\\\radar_scenes_dataset\\\\RadarScenes\\\\RadarScenes\\\\data\\\\{seq_name}\\\\radar_data.h5'\n",
    "    with h5py.File(radar_data_file_path, 'r') as f:\n",
    "        # Get radar data\n",
    "        radar_data = f['radar_data'][:]\n",
    "        # Append to val radar data list\n",
    "        val_radar_data_list.append(radar_data)\n",
    "\n",
    "#print(val_radar_data_list)"
   ]
  },
  {
   "cell_type": "code",
   "execution_count": null,
   "id": "470691ec",
   "metadata": {},
   "outputs": [],
   "source": [
    "# Create an empty list to store all the train values\n",
    "angle = []\n",
    "rcs = []\n",
    "range_sc = []\n",
    "doppler_vel = []\n",
    "label_id = []\n",
    "\n",
    "# Loop through each object in train_radar_data_list\n",
    "for obj in train_radar_data_list:\n",
    "    # Loop through each tuple in the object\n",
    "    for tup in obj:\n",
    "        # Extract the values from the tuple and append them to the corresponding lists\n",
    "        angle.append(tup[3])\n",
    "        rcs.append(tup[4])\n",
    "        range_sc.append(tup[2])\n",
    "        doppler_vel.append(tup[5])\n",
    "        label_id.append(tup[13])\n"
   ]
  },
  {
   "cell_type": "code",
   "execution_count": null,
   "id": "189b984a",
   "metadata": {},
   "outputs": [],
   "source": [
    "# Create an empty list to store all the validation values\n",
    "angle_v = []\n",
    "rcs_v = []\n",
    "range_sc_v = []\n",
    "doppler_vel_v = []\n",
    "label_id_v = []\n",
    "\n",
    "# Loop through each object in val_radar_data_list\n",
    "for obj in val_radar_data_list:\n",
    "    # Loop through each tuple in the object\n",
    "    for tup in obj:\n",
    "        # Extract the values from the tuple and append them to the corresponding lists\n",
    "        angle_v.append(tup[3])\n",
    "        rcs_v.append(tup[4])\n",
    "        range_sc_v.append(tup[2])\n",
    "        doppler_vel_v.append(tup[5])\n",
    "        label_id_v.append(tup[13])"
   ]
  },
  {
   "cell_type": "code",
   "execution_count": null,
   "id": "60bd2dce",
   "metadata": {},
   "outputs": [],
   "source": [
    "# Create a pandas DataFrame for training data\n",
    "train_df = pd.DataFrame({'Angle': angle, 'RCS': rcs, 'Range_Sc': range_sc, 'Doppler_Vel': doppler_vel, 'Label_ID': label_id})\n",
    "\n",
    "# Create a pandas DataFrame for validation data\n",
    "val_df = pd.DataFrame({'Angle': angle_v, 'RCS': rcs_v, 'Range_Sc': range_sc_v, 'Doppler_Vel': doppler_vel_v, 'Label_ID': label_id_v})\n"
   ]
  },
  {
   "cell_type": "code",
   "execution_count": null,
   "id": "66fb742a",
   "metadata": {},
   "outputs": [],
   "source": [
    "# Save training data to a CSV file\n",
    "train_df.to_csv('training_data.csv', index=False)\n",
    "\n",
    "# Save validation data to a CSV file\n",
    "val_df.to_csv('validation_data.csv', index=False)"
   ]
  },
  {
   "cell_type": "code",
   "execution_count": null,
   "id": "d3a8b192",
   "metadata": {},
   "outputs": [],
   "source": []
  }
 ],
 "metadata": {
  "kernelspec": {
   "display_name": "Python 3 (ipykernel)",
   "language": "python",
   "name": "python3"
  },
  "language_info": {
   "codemirror_mode": {
    "name": "ipython",
    "version": 3
   },
   "file_extension": ".py",
   "mimetype": "text/x-python",
   "name": "python",
   "nbconvert_exporter": "python",
   "pygments_lexer": "ipython3",
   "version": "3.10.9"
  }
 },
 "nbformat": 4,
 "nbformat_minor": 5
}
